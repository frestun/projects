{
 "cells": [
  {
   "cell_type": "markdown",
   "id": "9e367cff",
   "metadata": {},
   "source": [
    "## Приложение знакомств"
   ]
  },
  {
   "cell_type": "markdown",
   "id": "331dc4bd",
   "metadata": {},
   "source": [
    "Механика приложения следующая: пользователи видят в приложении анкеты друг друга и могут ставить друг другу лайки или дизлайки. Если пользователи поставили друг другу лайк – это называется мэтч, и у пользователей появляется возможность познакомиться.\n",
    "\n",
    "Команда приложения разработала новый алгоритм для поиска наиболее подходящих анкет. Для проверки работы алгоритма был проведен АБ-тест. Все пользователи были разделены на две группы. Пользователи в группе с номером 0 пользовались приложением со старым алгоритмом. Все пользователи в группе 1 пользовались приложением с новым алгоритмом для поиска анкет."
   ]
  },
  {
   "cell_type": "markdown",
   "id": "9524cbba",
   "metadata": {},
   "source": [
    "**Задача** – оценить, правда ли, что новый алгоритм улучшил качество сервиса. Для этого нужно выбрать метрики, которые отвечают за качество сервиса, и статистически сравнить эти метрики в двух группах."
   ]
  },
  {
   "cell_type": "markdown",
   "id": "36ae60a4",
   "metadata": {},
   "source": [
    "В данных находится выгрузка логов взаимодействия пользователей друг с другом. Для каждой пары пользователей указано, из какой они группы АБ-теста и случился ли у них мэтч."
   ]
  },
  {
   "cell_type": "markdown",
   "id": "22a784c5",
   "metadata": {},
   "source": [
    "## План:\n",
    "1. Определить цель эксперимента.\n",
    "2. Определить метрики.\n",
    "3. Сформулировать гипотезу, определить уровень значимости.\n",
    "4. Загрузить данные. Проверить на отсутствие пустых значений, определить размеры выборок и их независимость.\n",
    "5. Выбрать метод сравнения групп. \n",
    "6. Получить результаты и проанализировать их. "
   ]
  },
  {
   "cell_type": "markdown",
   "id": "003fed7c",
   "metadata": {},
   "source": [
    "### 1. Определить цель эксперимента.   \n",
    "В условии задачи дано, что целью эксперимента является улучшение качества сервиса. Кажется, что это может быть готовой целью, однако не всё так просто. Давайте вспомним (или узнаем ;)  ), что такое дейтинговые приложения для знакомств. Есть две стороны: пользователь и бизнес. И определение качества сервиса с двух этих сторон будет различаться. Цели у пользователей могут быть разными: найти краткосрочные отношения, долгосрочные отношения, получить флирт, социальные \"поглаживания\" в виде лайков и т.д. Для простоты определим цель пользователя в приложении: получать как можно больше мэтчей, то есть взаимных лайков от пользователей, чьи анкеты максимально совпадают с запросом пользователя. С точки зрения бизнеса удовлетворить полностью запрос пользователя может стать выстрелом себе в ногу. Для пользователя успех — это найти себе пару в краткие сроки. Для бизнеса успех — это удержание пользователя, если сказать прямо, то цель в том, чтобы пользователь не нашёл себе пару никогда или как можно дольше, но при этом не разочаровался полностью и не удалил приложение. В основном дэйтинговые приложения зарабатывают показами рекламы и подпиской. Важно соблюдать баланс: выдавать достаточное количество анкет и мэтчей, чтобы поддерживать интерес пользователя, но не подбирать очень подходящие для этого анкеты, которые могут поспособствовать оттоку. \n",
    "### 2. Определить метрики. \n",
    "Так как я выступаю на стороне бизнеса, то и качество нового алгоритма буду оценивать с точки зрения бизнеса. В наших данных нет таймстемпов сессий пользователей, поэтому я не могу посмотреть частоту, время использования приложения, ежедневную активность пользователей, % удержания. Но предположим, что у нас честный тест, и обе группы провели в эксперименте одинаковое количество времени. Если за один период пользователи совершают разное количество действий (в нашем случае просмотров), то это может свидетельствовать о разной степени вовлечённости и интереса к приложению. Я определяю целевой метрикой — количество просмотров, т.е. количество выданных анкет на одного пользователя. Чем больше анкет, тем выше стимул заходить в приложение и проводить там дольше времени, а значит эффективнее наш новый алгоритм. При этом важно не уронить привычную для пользователей долю мэтчей, если в приложении будут только показы, без взаимных лайков, это может понизить замооценку пользователей и разочаровать их. В качестве guardrail-метрики будет выступать количество мэтчей.  \n",
    "### 3. Сформулировать гипотезу и определить уровень значимости. \n",
    "H0 — новый алгоритм не влияет на частоту показов анкет пользователям\n",
    "H1 — новый алгоритм оказывает влияние на частоту показов анкет пользователям\n",
    "Алгоритм — это важный параметр продукта, его ухудшение может привести к оттоку пользователей и снижению показателя их удержания, что негативнго повлияет на финансовые показатели. Поэтому я определю жёсткие критерии успешности теста: α = 0.01, мощность 99%."
   ]
  },
  {
   "cell_type": "markdown",
   "id": "f6305ac7",
   "metadata": {},
   "source": [
    "### 4. Загрузить и проверить данные\n",
    "В наших данных 1000 уникальных user_id. Пользователи user_id_1 разбиты на две непересекающиеся группы c количеством пользователей 499 (тест) и 501 (контроль). В данных так же отсутствует пересечение между группами пользователей, анкеты которых были показаны в тестовой и контрольной группах. "
   ]
  },
  {
   "cell_type": "code",
   "execution_count": 215,
   "id": "ec0dea78",
   "metadata": {},
   "outputs": [],
   "source": [
    "import pandas as pd\n",
    "import numpy as np\n",
    "import pingouin as pg\n",
    "import scipy.stats as ss\n",
    "from scipy.stats import ttest_ind\n",
    "from scipy.stats import norm\n",
    "from statsmodels.stats.power import TTestIndPower\n",
    "import matplotlib.pyplot as plt\n",
    "import seaborn as sns\n",
    "import plotly.express as px\n",
    "import requests\n",
    "from urllib.parse import urlencode\n",
    "import json\n",
    "%matplotlib inline"
   ]
  },
  {
   "cell_type": "code",
   "execution_count": 3,
   "id": "c55498f5",
   "metadata": {},
   "outputs": [],
   "source": [
    "public_link = 'https://disk.yandex.ru/d/txn7q-CE2zSaPg'\n",
    "resources = \"https://cloud-api.yandex.net/v1/disk/public/resources?\"\n",
    "requests_url = resources + urlencode(dict(public_key=public_link))\n",
    "r =  requests.get(requests_url)\n",
    "final_url = r.json()['file']\n",
    "dating = pd.read_csv(final_url)"
   ]
  },
  {
   "cell_type": "code",
   "execution_count": 71,
   "id": "b9027d18",
   "metadata": {
    "scrolled": true
   },
   "outputs": [
    {
     "name": "stdout",
     "output_type": "stream",
     "text": [
      "<class 'pandas.core.frame.DataFrame'>\n",
      "RangeIndex: 14514 entries, 0 to 14513\n",
      "Data columns (total 4 columns):\n",
      " #   Column     Non-Null Count  Dtype\n",
      "---  ------     --------------  -----\n",
      " 0   user_id_1  14514 non-null  int64\n",
      " 1   user_id_2  14514 non-null  int64\n",
      " 2   group      14514 non-null  int64\n",
      " 3   is_match   14514 non-null  int64\n",
      "dtypes: int64(4)\n",
      "memory usage: 453.7 KB\n"
     ]
    }
   ],
   "source": [
    "dating.info()"
   ]
  },
  {
   "cell_type": "code",
   "execution_count": 5,
   "id": "cfaa93c8",
   "metadata": {},
   "outputs": [
    {
     "data": {
      "text/plain": [
       "1000"
      ]
     },
     "execution_count": 5,
     "metadata": {},
     "output_type": "execute_result"
    }
   ],
   "source": [
    "dating.user_id_1.nunique()"
   ]
  },
  {
   "cell_type": "code",
   "execution_count": 6,
   "id": "07410d52",
   "metadata": {},
   "outputs": [
    {
     "data": {
      "text/plain": [
       "1000"
      ]
     },
     "execution_count": 6,
     "metadata": {},
     "output_type": "execute_result"
    }
   ],
   "source": [
    "dating.user_id_2.nunique()"
   ]
  },
  {
   "cell_type": "code",
   "execution_count": 59,
   "id": "4714120d",
   "metadata": {},
   "outputs": [],
   "source": [
    "test = dating.query('group == 1').user_id_1.to_list()"
   ]
  },
  {
   "cell_type": "code",
   "execution_count": 60,
   "id": "d060ea3a",
   "metadata": {},
   "outputs": [],
   "source": [
    "control = dating.query('group == 0').user_id_1.to_list() "
   ]
  },
  {
   "cell_type": "code",
   "execution_count": 86,
   "id": "58999ca5",
   "metadata": {},
   "outputs": [],
   "source": [
    "intersection_t_c = [] #проверка пересечения в тестовой и контрольной группах\n",
    "for i in test:\n",
    "    if i in control:\n",
    "        intersection.append(i)        "
   ]
  },
  {
   "cell_type": "code",
   "execution_count": 87,
   "id": "ca78ab52",
   "metadata": {},
   "outputs": [
    {
     "data": {
      "text/plain": [
       "0"
      ]
     },
     "execution_count": 87,
     "metadata": {},
     "output_type": "execute_result"
    }
   ],
   "source": [
    "len(intersection_t_c)"
   ]
  },
  {
   "cell_type": "code",
   "execution_count": 63,
   "id": "dba5fbde",
   "metadata": {},
   "outputs": [],
   "source": [
    "test_2 = dating.query('group == 1').user_id_2.to_list()"
   ]
  },
  {
   "cell_type": "code",
   "execution_count": 64,
   "id": "1dfbd5b9",
   "metadata": {},
   "outputs": [],
   "source": [
    "control_2 = dating.query('group == 1').user_id_2.to_list()"
   ]
  },
  {
   "cell_type": "code",
   "execution_count": 74,
   "id": "d7212a21",
   "metadata": {},
   "outputs": [],
   "source": [
    "intersection_c_t2 = [] #встречались ли пользователи, анкеты которых показывали в тестовой группе для контрольной группы\n",
    "for i in control:\n",
    "    if i in test_2:\n",
    "        intersection.append(i)        "
   ]
  },
  {
   "cell_type": "code",
   "execution_count": 75,
   "id": "bdb6b55c",
   "metadata": {},
   "outputs": [
    {
     "data": {
      "text/plain": [
       "0"
      ]
     },
     "execution_count": 75,
     "metadata": {},
     "output_type": "execute_result"
    }
   ],
   "source": [
    "len(intersection_c_t2)"
   ]
  },
  {
   "cell_type": "code",
   "execution_count": 77,
   "id": "6164fe13",
   "metadata": {},
   "outputs": [],
   "source": [
    "intersection_t_c2 = [] #встречались ли пользователи, анкеты которых показывали в контрольной группе для тестовой группы\n",
    "for i in test:\n",
    "    if i in control_2:\n",
    "        intersection.append(i)    "
   ]
  },
  {
   "cell_type": "code",
   "execution_count": 78,
   "id": "531661ac",
   "metadata": {
    "scrolled": true
   },
   "outputs": [
    {
     "data": {
      "text/plain": [
       "0"
      ]
     },
     "execution_count": 78,
     "metadata": {},
     "output_type": "execute_result"
    }
   ],
   "source": [
    "len(intersection_t_c2)"
   ]
  },
  {
   "cell_type": "code",
   "execution_count": 81,
   "id": "a1fcd553",
   "metadata": {},
   "outputs": [
    {
     "data": {
      "text/plain": [
       "501"
      ]
     },
     "execution_count": 81,
     "metadata": {},
     "output_type": "execute_result"
    }
   ],
   "source": [
    "dating.query('group == 0').user_id_2.nunique()"
   ]
  },
  {
   "cell_type": "code",
   "execution_count": 82,
   "id": "b873a4ea",
   "metadata": {},
   "outputs": [
    {
     "data": {
      "text/plain": [
       "499"
      ]
     },
     "execution_count": 82,
     "metadata": {},
     "output_type": "execute_result"
    }
   ],
   "source": [
    "dating.query('group == 1').user_id_2.nunique()"
   ]
  },
  {
   "cell_type": "code",
   "execution_count": 83,
   "id": "00992b0a",
   "metadata": {},
   "outputs": [
    {
     "data": {
      "text/plain": [
       "501"
      ]
     },
     "execution_count": 83,
     "metadata": {},
     "output_type": "execute_result"
    }
   ],
   "source": [
    "dating.query('group == 0').user_id_1.nunique()"
   ]
  },
  {
   "cell_type": "code",
   "execution_count": 84,
   "id": "c4e7eb02",
   "metadata": {},
   "outputs": [
    {
     "data": {
      "text/plain": [
       "499"
      ]
     },
     "execution_count": 84,
     "metadata": {},
     "output_type": "execute_result"
    }
   ],
   "source": [
    "dating.query('group == 1').user_id_1.nunique()"
   ]
  },
  {
   "cell_type": "markdown",
   "id": "23a370c6",
   "metadata": {},
   "source": [
    "### 5. Выбрать метод сравнения групп.\n",
    "\n",
    "Визуализация распределений показывает, что они похожи на нормальные. Проверю возможность применения t-теста для сравнения двух средних в выборках:\n",
    "1. Ранее я проверила, что выборки являются независимыми друг от друга, следовательно, они не коррелируют.\n",
    "2. Так же нет оснований отклонить предположение, что распределение признаков в каждой выборке соответствует нормальному. \n",
    "2. Предположим, что дисперсия в группах равна. P-value 0,32 для f-критерия не позволяет отклонить эту гипотезу, поэтому критерий равенства дисперсий считаю соблюденным.  \n",
    "\n",
    "\n",
    "Я не вижу препятствий для применения t-теста в качестве инстумента для проведения тестирования. "
   ]
  },
  {
   "cell_type": "code",
   "execution_count": 92,
   "id": "e3a10751",
   "metadata": {},
   "outputs": [],
   "source": [
    "ab_test = dating.groupby(['group', 'user_id_1'], as_index=False).user_id_2.count() \\\n",
    "                .rename(columns={'user_id_1': 'user_id', 'user_id_2': 'number_of_profiles_shown'})"
   ]
  },
  {
   "cell_type": "code",
   "execution_count": 130,
   "id": "43fbf76b",
   "metadata": {},
   "outputs": [
    {
     "data": {
      "text/plain": [
       "<Axes: xlabel='number_of_profiles_shown', ylabel='Count'>"
      ]
     },
     "execution_count": 130,
     "metadata": {},
     "output_type": "execute_result"
    },
    {
     "data": {
      "image/png": "[encoded data removed]",
      "text/plain": [
       "<Figure size 500x300 with 1 Axes>"
      ]
     },
     "metadata": {},
     "output_type": "display_data"
    }
   ],
   "source": [
    "#визуализация распределений количества показов профилей других пользователей\n",
    "plt.figure(figsize=(5,3))\n",
    "sns.histplot(data=ab_test, x=ab_test.number_of_profiles_shown, hue=ab_test.group, bins=20, kde=True)"
   ]
  },
  {
   "cell_type": "code",
   "execution_count": 136,
   "id": "be78a59e",
   "metadata": {
    "scrolled": true
   },
   "outputs": [
    {
     "data": {
      "text/html": [
       "<div>\n",
       "<style scoped>\n",
       "    .dataframe tbody tr th:only-of-type {\n",
       "        vertical-align: middle;\n",
       "    }\n",
       "\n",
       "    .dataframe tbody tr th {\n",
       "        vertical-align: top;\n",
       "    }\n",
       "\n",
       "    .dataframe thead th {\n",
       "        text-align: right;\n",
       "    }\n",
       "</style>\n",
       "<table border=\"1\" class=\"dataframe\">\n",
       "  <thead>\n",
       "    <tr style=\"text-align: right;\">\n",
       "      <th></th>\n",
       "      <th>W</th>\n",
       "      <th>pval</th>\n",
       "      <th>normal</th>\n",
       "    </tr>\n",
       "    <tr>\n",
       "      <th>group</th>\n",
       "      <th></th>\n",
       "      <th></th>\n",
       "      <th></th>\n",
       "    </tr>\n",
       "  </thead>\n",
       "  <tbody>\n",
       "    <tr>\n",
       "      <th>0</th>\n",
       "      <td>2.406168</td>\n",
       "      <td>0.300267</td>\n",
       "      <td>True</td>\n",
       "    </tr>\n",
       "    <tr>\n",
       "      <th>1</th>\n",
       "      <td>4.262189</td>\n",
       "      <td>0.118707</td>\n",
       "      <td>True</td>\n",
       "    </tr>\n",
       "  </tbody>\n",
       "</table>\n",
       "</div>"
      ],
      "text/plain": [
       "              W      pval  normal\n",
       "group                            \n",
       "0      2.406168  0.300267    True\n",
       "1      4.262189  0.118707    True"
      ]
     },
     "execution_count": 136,
     "metadata": {},
     "output_type": "execute_result"
    }
   ],
   "source": [
    "# тест на нормальность распределения\n",
    "pg.normality(data=ab_test, dv='number_of_profiles_shown', group='group', method='normaltest')"
   ]
  },
  {
   "cell_type": "code",
   "execution_count": 163,
   "id": "81398da2",
   "metadata": {},
   "outputs": [
    {
     "data": {
      "text/plain": [
       "Text(0.5, 1.0, 'test')"
      ]
     },
     "execution_count": 163,
     "metadata": {},
     "output_type": "execute_result"
    },
    {
     "data": {
      "image/png": "[encoded data removed]",
      "text/plain": [
       "<Figure size 640x480 with 2 Axes>"
      ]
     },
     "metadata": {},
     "output_type": "display_data"
    }
   ],
   "source": [
    "# QQ плот для визуализации нормальности распределений\n",
    "plt.subplot(1, 2, 1)\n",
    "pg.qqplot(ab_test.query('group == 0').number_of_profiles_shown)\n",
    "plt.title(\"control\")\n",
    "plt.subplot(1, 2, 2)\n",
    "pg.qqplot(ab_test.query('group == 1').number_of_profiles_shown)\n",
    "plt.title(\"test\")"
   ]
  },
  {
   "cell_type": "code",
   "execution_count": 238,
   "id": "1a804578",
   "metadata": {},
   "outputs": [
    {
     "data": {
      "text/plain": [
       "<Axes: xlabel='group', ylabel='number_of_profiles_shown'>"
      ]
     },
     "execution_count": 238,
     "metadata": {},
     "output_type": "execute_result"
    },
    {
     "data": {
      "image/png": "[encoded data removed]",
      "text/plain": [
       "<Figure size 300x400 with 1 Axes>"
      ]
     },
     "metadata": {},
     "output_type": "display_data"
    }
   ],
   "source": [
    "# боксплот, на котором можем увидеть, в каком интервале находится большинство наших значений, медиану и среднее\n",
    "plt.figure(figsize=(3,4))\n",
    "sns.boxplot(data=ab_test, x='group', y='number_of_profiles_shown', showmeans=True)"
   ]
  },
  {
   "cell_type": "code",
   "execution_count": 236,
   "id": "06224875",
   "metadata": {},
   "outputs": [],
   "source": [
    "n1 = 501 \n",
    "n2 = 499\n",
    "s1 = np.var(ab_test.query('group == 0').number_of_profiles_shown, ddof=1)\n",
    "s2 = np.var(ab_test.query('group == 1').number_of_profiles_shown, ddof=1) "
   ]
  },
  {
   "cell_type": "code",
   "execution_count": 237,
   "id": "71ecd775",
   "metadata": {},
   "outputs": [
    {
     "name": "stdout",
     "output_type": "stream",
     "text": [
      "P-value для равенства дисперсий в группах: 0.32\n"
     ]
    }
   ],
   "source": [
    "f = s1/s2 \n",
    "dfn = n1-1 \n",
    "dfd = n2-1\n",
    "p = 1-ss.f.cdf(f, dfn, dfd) \n",
    "print('P-value для равенства дисперсий в группах: {f:.2f}'.format(f=p))"
   ]
  },
  {
   "cell_type": "markdown",
   "id": "79d0344d",
   "metadata": {},
   "source": [
    "### 6. Получить результаты и проанализировать их.   \n",
    "Среднее контрольной группы 9.56, с вероятностью 0.99 среднее генеральной совокупности находится в пределах 9.21-9.92.  \n",
    "Среднее тестовой группы 19.48 с 99% доверительным интервалом 19.14-19.83, доверительные интервалы этих двух групп не пересекаются, что уже свидетельствует о том, что случайно получить выборку с таким средним, как в тестовой группе, маловероятно.  \n",
    "P-value, полученный в t-тесте, имеет низкое значение. Значит, вероятность получить такое или ещё более выраженное значение среднего равна 1.8942877064043142e-285. Что даёт нам основание отклонить нулевую гипотезу о том, что новый алгоритм не влияет на средние значения количества демонстраций профилей других пользователей.  \n",
    "С влиянием разобрались, очень вероятно, что оно существует. Давайте посмотрим, какое это влияние.  \n",
    "\n",
    "Для лучшего понимания и интерпретации нашего теста можем воспользоваться несколькими дополнительными параметрами:  \n",
    "1. Lift — насколько изменилась метрика теста от метрики контроля, в нашем случае прирост составил 103.69%.\n",
    "2. Effect Size (размер эффекта) — это стандартизированный прирост, показывает, на какое количество ошибок среднего изменилась метрика, он составил 3.28.\n",
    "3. Можем ретроспективно оценить минимальный детектируемый эффект (MDE) нашего эксперимента. MDE для выборки в 499 наблюдений, с α = 0.01 и мощностью 99%: 3.97, т.е. изменение на этот показатель уже было бы достаточным, чтобы завершить успешно эксперимент.\n",
    "\n",
    "Не будем забывать о нашей guardrail-метрике, количестве мэтчей. Нам важно, чтобы количество мэтчей не снизилось, во избежание потери интереса пользовталей к приложению. Доля мэтчей среди всех показов в контрольной групее 19.49%, в тестовой 40.21%. Доля совпадений у пользователей не снизилась, но заметное повышение тоже может дать негативный эффект. При частых мэтчах у пользователей появляется больше шансов найти подходящую пару и перестать использовать приложение. \n",
    "\n",
    "### Выводы:\n",
    "Исходя из полученных результатов, можно сделать вывод о положительном влянии нового алгоритма на метрику показов профилей пользователям. Однако при этом есть влияние на количество мэтчей, что в перспективе может изменить поведение пользователей. Рекомендую провести A/B тест, в котором будет исследование влияния доли мэтчей у пользователей на % удержания пользоватлей. "
   ]
  },
  {
   "cell_type": "code",
   "execution_count": 195,
   "id": "2a04dbed",
   "metadata": {
    "scrolled": true
   },
   "outputs": [
    {
     "name": "stdout",
     "output_type": "stream",
     "text": [
      "Среднее контрольной группы: 9.56\n"
     ]
    }
   ],
   "source": [
    "m1 = ab_test.query('group == 0').number_of_profiles_shown.mean()\n",
    "print('Среднее контрольной группы: {f:.2f}'.format(f=m1))"
   ]
  },
  {
   "cell_type": "code",
   "execution_count": 239,
   "id": "b17510c4",
   "metadata": {},
   "outputs": [
    {
     "name": "stdout",
     "output_type": "stream",
     "text": [
      "Доверительный интервал контрольной группы: 9.21 - 9.92\n"
     ]
    }
   ],
   "source": [
    "ci1 = ss.t.interval(confidence=0.99, df=len(ab_test.query('group == 0').number_of_profiles_shown)-1, loc=np.mean(ab_test.query('group == 0').number_of_profiles_shown), scale=ss.sem(ab_test.query('group == 0').number_of_profiles_shown))\n",
    "print('Доверительный интервал контрольной группы: {f:.2f} - {f1:.2f}'.format(f=ci1[0], f1=ci1[1]))"
   ]
  },
  {
   "cell_type": "code",
   "execution_count": 241,
   "id": "dd05bb37",
   "metadata": {
    "scrolled": false
   },
   "outputs": [
    {
     "name": "stdout",
     "output_type": "stream",
     "text": [
      "Среднее тестовой группы: 19.48\n"
     ]
    }
   ],
   "source": [
    "m2 = ab_test.query('group == 1').number_of_profiles_shown.mean()\n",
    "print('Среднее тестовой группы: {f:.2f}'.format(f=m2))"
   ]
  },
  {
   "cell_type": "code",
   "execution_count": 240,
   "id": "7fe50e85",
   "metadata": {
    "scrolled": true
   },
   "outputs": [
    {
     "name": "stdout",
     "output_type": "stream",
     "text": [
      "Доверительный интервал тестовой группы: 19.14 - 19.83\n"
     ]
    }
   ],
   "source": [
    "ci2= ss.t.interval(confidence=0.99, df=len(ab_test.query('group == 0').number_of_profiles_shown)-1, loc=np.mean(ab_test.query('group == 1').number_of_profiles_shown), scale=ss.sem(ab_test.query('group == 1').number_of_profiles_shown))\n",
    "print('Доверительный интервал тестовой группы: {f:.2f} - {f1:.2f}'.format(f=ci2[0], f1=ci2[1]))"
   ]
  },
  {
   "cell_type": "code",
   "execution_count": 243,
   "id": "c137384c",
   "metadata": {
    "scrolled": true
   },
   "outputs": [
    {
     "name": "stdout",
     "output_type": "stream",
     "text": [
      "T-test. Статистика: -51.85. P-value: 0.000\n"
     ]
    }
   ],
   "source": [
    "tt = ttest_ind(ab_test.query('group == 0').number_of_profiles_shown, ab_test.query('group == 1').number_of_profiles_shown)\n",
    "print('T-test. Статистика: {f:.2f}. P-value: {f1:.3f}'.format(f=tt[0], f1=tt[1]))"
   ]
  },
  {
   "cell_type": "code",
   "execution_count": 242,
   "id": "7fdf2c42",
   "metadata": {},
   "outputs": [
    {
     "data": {
      "text/plain": [
       "Ttest_indResult(statistic=-51.85383774946492, pvalue=1.8942877064043142e-285)"
      ]
     },
     "execution_count": 242,
     "metadata": {},
     "output_type": "execute_result"
    }
   ],
   "source": [
    "tt"
   ]
  },
  {
   "cell_type": "code",
   "execution_count": 210,
   "id": "a42c5114",
   "metadata": {},
   "outputs": [
    {
     "name": "stdout",
     "output_type": "stream",
     "text": [
      "Прирост метрики в тестовой группе по сравнению с контрольной (lift): 103.69%\n"
     ]
    }
   ],
   "source": [
    "lift = (ab_test.query('group == 1').number_of_profiles_shown.mean()-ab_test.query('group == 0').number_of_profiles_shown.mean())/ab_test.query('group == 0').number_of_profiles_shown.mean()*100\n",
    "print('Прирост метрики в тестовой группе по сравнению с контрольной (lift): {f:.2f}%'.format(f=lift))"
   ]
  },
  {
   "cell_type": "code",
   "execution_count": 211,
   "id": "6e4ee4d9",
   "metadata": {},
   "outputs": [
    {
     "name": "stdout",
     "output_type": "stream",
     "text": [
      "Размер эффекта: 3.28\n"
     ]
    }
   ],
   "source": [
    "s_pooled = np.sqrt(((n1 - 1) * s1 + (n2 - 1) * s2) / (n1 + n2 - 2))\n",
    "\n",
    "effect_size = (m2-m1)/s_pooled\n",
    "print('Размер эффекта: {f:.2f}'.format(f=effect_size))"
   ]
  },
  {
   "cell_type": "code",
   "execution_count": 223,
   "id": "e5a32ed3",
   "metadata": {},
   "outputs": [
    {
     "name": "stdout",
     "output_type": "stream",
     "text": [
      "MDE для выборки в 499 наблюдений, с α = 0.01 и мощностью 99%: 3.97\n"
     ]
    }
   ],
   "source": [
    "def estimate_effect_size(n, sd, alpha=0.01, power=0.99):\n",
    "    M = (norm.ppf(q=1-alpha/2) + norm.ppf(q=power))**2\n",
    "    return np.sqrt(2 * M * sd**2 / n) / sd\n",
    "\n",
    "n = 499\n",
    "sd = ab_test.query('group == 0').number_of_profiles_shown.std()\n",
    "\n",
    "mde = estimate_effect_size(sd, n) \n",
    "print('MDE для выборки в 499 наблюдений, с α = 0.01 и мощностью 99%: {f:.2f}'.format(f=mde))"
   ]
  },
  {
   "cell_type": "code",
   "execution_count": 244,
   "id": "00b0c7a5",
   "metadata": {},
   "outputs": [
    {
     "data": {
      "text/html": [
       "<div>\n",
       "<style scoped>\n",
       "    .dataframe tbody tr th:only-of-type {\n",
       "        vertical-align: middle;\n",
       "    }\n",
       "\n",
       "    .dataframe tbody tr th {\n",
       "        vertical-align: top;\n",
       "    }\n",
       "\n",
       "    .dataframe thead th {\n",
       "        text-align: right;\n",
       "    }\n",
       "</style>\n",
       "<table border=\"1\" class=\"dataframe\">\n",
       "  <thead>\n",
       "    <tr style=\"text-align: right;\">\n",
       "      <th></th>\n",
       "      <th>user_id_1</th>\n",
       "      <th>user_id_2</th>\n",
       "      <th>group</th>\n",
       "      <th>is_match</th>\n",
       "    </tr>\n",
       "  </thead>\n",
       "  <tbody>\n",
       "    <tr>\n",
       "      <th>0</th>\n",
       "      <td>79</td>\n",
       "      <td>91</td>\n",
       "      <td>1</td>\n",
       "      <td>1</td>\n",
       "    </tr>\n",
       "    <tr>\n",
       "      <th>1</th>\n",
       "      <td>716</td>\n",
       "      <td>353</td>\n",
       "      <td>1</td>\n",
       "      <td>1</td>\n",
       "    </tr>\n",
       "    <tr>\n",
       "      <th>2</th>\n",
       "      <td>423</td>\n",
       "      <td>677</td>\n",
       "      <td>0</td>\n",
       "      <td>0</td>\n",
       "    </tr>\n",
       "    <tr>\n",
       "      <th>3</th>\n",
       "      <td>658</td>\n",
       "      <td>165</td>\n",
       "      <td>1</td>\n",
       "      <td>1</td>\n",
       "    </tr>\n",
       "    <tr>\n",
       "      <th>4</th>\n",
       "      <td>969</td>\n",
       "      <td>155</td>\n",
       "      <td>0</td>\n",
       "      <td>1</td>\n",
       "    </tr>\n",
       "    <tr>\n",
       "      <th>...</th>\n",
       "      <td>...</td>\n",
       "      <td>...</td>\n",
       "      <td>...</td>\n",
       "      <td>...</td>\n",
       "    </tr>\n",
       "    <tr>\n",
       "      <th>14509</th>\n",
       "      <td>476</td>\n",
       "      <td>631</td>\n",
       "      <td>0</td>\n",
       "      <td>0</td>\n",
       "    </tr>\n",
       "    <tr>\n",
       "      <th>14510</th>\n",
       "      <td>455</td>\n",
       "      <td>770</td>\n",
       "      <td>1</td>\n",
       "      <td>0</td>\n",
       "    </tr>\n",
       "    <tr>\n",
       "      <th>14511</th>\n",
       "      <td>260</td>\n",
       "      <td>6</td>\n",
       "      <td>1</td>\n",
       "      <td>1</td>\n",
       "    </tr>\n",
       "    <tr>\n",
       "      <th>14512</th>\n",
       "      <td>885</td>\n",
       "      <td>812</td>\n",
       "      <td>1</td>\n",
       "      <td>1</td>\n",
       "    </tr>\n",
       "    <tr>\n",
       "      <th>14513</th>\n",
       "      <td>357</td>\n",
       "      <td>810</td>\n",
       "      <td>1</td>\n",
       "      <td>1</td>\n",
       "    </tr>\n",
       "  </tbody>\n",
       "</table>\n",
       "<p>14514 rows × 4 columns</p>\n",
       "</div>"
      ],
      "text/plain": [
       "       user_id_1  user_id_2  group  is_match\n",
       "0             79         91      1         1\n",
       "1            716        353      1         1\n",
       "2            423        677      0         0\n",
       "3            658        165      1         1\n",
       "4            969        155      0         1\n",
       "...          ...        ...    ...       ...\n",
       "14509        476        631      0         0\n",
       "14510        455        770      1         0\n",
       "14511        260          6      1         1\n",
       "14512        885        812      1         1\n",
       "14513        357        810      1         1\n",
       "\n",
       "[14514 rows x 4 columns]"
      ]
     },
     "execution_count": 244,
     "metadata": {},
     "output_type": "execute_result"
    }
   ],
   "source": [
    "dating"
   ]
  },
  {
   "cell_type": "code",
   "execution_count": 250,
   "id": "3f6051a0",
   "metadata": {},
   "outputs": [],
   "source": [
    "matches = dating.groupby('group').agg({'user_id_2': 'count', 'is_match': 'sum'})"
   ]
  },
  {
   "cell_type": "code",
   "execution_count": 255,
   "id": "adf2d518",
   "metadata": {},
   "outputs": [],
   "source": [
    "matches['proportion,%'] = round(matches.is_match / matches.user_id_2 * 100, 2)"
   ]
  },
  {
   "cell_type": "code",
   "execution_count": 256,
   "id": "bbdf3c43",
   "metadata": {
    "scrolled": true
   },
   "outputs": [
    {
     "data": {
      "text/html": [
       "<div>\n",
       "<style scoped>\n",
       "    .dataframe tbody tr th:only-of-type {\n",
       "        vertical-align: middle;\n",
       "    }\n",
       "\n",
       "    .dataframe tbody tr th {\n",
       "        vertical-align: top;\n",
       "    }\n",
       "\n",
       "    .dataframe thead th {\n",
       "        text-align: right;\n",
       "    }\n",
       "</style>\n",
       "<table border=\"1\" class=\"dataframe\">\n",
       "  <thead>\n",
       "    <tr style=\"text-align: right;\">\n",
       "      <th></th>\n",
       "      <th>user_id_2</th>\n",
       "      <th>is_match</th>\n",
       "      <th>proportion,%</th>\n",
       "    </tr>\n",
       "    <tr>\n",
       "      <th>group</th>\n",
       "      <th></th>\n",
       "      <th></th>\n",
       "      <th></th>\n",
       "    </tr>\n",
       "  </thead>\n",
       "  <tbody>\n",
       "    <tr>\n",
       "      <th>0</th>\n",
       "      <td>4792</td>\n",
       "      <td>934</td>\n",
       "      <td>19.49</td>\n",
       "    </tr>\n",
       "    <tr>\n",
       "      <th>1</th>\n",
       "      <td>9722</td>\n",
       "      <td>3909</td>\n",
       "      <td>40.21</td>\n",
       "    </tr>\n",
       "  </tbody>\n",
       "</table>\n",
       "</div>"
      ],
      "text/plain": [
       "       user_id_2  is_match  proportion,%\n",
       "group                                   \n",
       "0           4792       934         19.49\n",
       "1           9722      3909         40.21"
      ]
     },
     "execution_count": 256,
     "metadata": {},
     "output_type": "execute_result"
    }
   ],
   "source": [
    "matches"
   ]
  },
  {
   "cell_type": "code",
   "execution_count": null,
   "id": "9a8df1d5",
   "metadata": {},
   "outputs": [],
   "source": []
  },
  {
   "cell_type": "code",
   "execution_count": null,
   "id": "e39f4ed9",
   "metadata": {},
   "outputs": [],
   "source": []
  },
  {
   "cell_type": "code",
   "execution_count": null,
   "id": "26b47ae8",
   "metadata": {},
   "outputs": [],
   "source": []
  },
  {
   "cell_type": "code",
   "execution_count": null,
   "id": "6fc406bf",
   "metadata": {},
   "outputs": [],
   "source": []
  },
  {
   "cell_type": "code",
   "execution_count": null,
   "id": "363e809a",
   "metadata": {},
   "outputs": [],
   "source": []
  },
  {
   "cell_type": "code",
   "execution_count": null,
   "id": "aeee4546",
   "metadata": {},
   "outputs": [],
   "source": []
  },
  {
   "cell_type": "code",
   "execution_count": null,
   "id": "66a034d0",
   "metadata": {},
   "outputs": [],
   "source": []
  },
  {
   "cell_type": "code",
   "execution_count": null,
   "id": "947e08c6",
   "metadata": {},
   "outputs": [],
   "source": []
  }
 ],
 "metadata": {
  "kernelspec": {
   "display_name": "Python 3 (ipykernel)",
   "language": "python",
   "name": "python3"
  },
  "language_info": {
   "codemirror_mode": {
    "name": "ipython",
    "version": 3
   },
   "file_extension": ".py",
   "mimetype": "text/x-python",
   "name": "python",
   "nbconvert_exporter": "python",
   "pygments_lexer": "ipython3",
   "version": "3.10.9"
  }
 },
 "nbformat": 4,
 "nbformat_minor": 5
}
